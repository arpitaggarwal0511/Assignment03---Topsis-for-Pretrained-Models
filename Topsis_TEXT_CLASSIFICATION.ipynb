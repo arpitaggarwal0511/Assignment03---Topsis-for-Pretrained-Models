{
  "nbformat": 4,
  "nbformat_minor": 0,
  "metadata": {
    "colab": {
      "provenance": [],
      "authorship_tag": "ABX9TyNPjNr9exatFdmZS3Wm5YNp",
      "include_colab_link": true
    },
    "kernelspec": {
      "name": "python3",
      "display_name": "Python 3"
    },
    "language_info": {
      "name": "python"
    }
  },
  "cells": [
    {
      "cell_type": "markdown",
      "metadata": {
        "id": "view-in-github",
        "colab_type": "text"
      },
      "source": [
        "<a href=\"https://colab.research.google.com/github/arpitaggarwal0511/Assignment03---Topsis-for-Pretrained-Models/blob/main/Topsis_TEXT_CLASSIFICATION.ipynb\" target=\"_parent\"><img src=\"https://colab.research.google.com/assets/colab-badge.svg\" alt=\"Open In Colab\"/></a>"
      ]
    },
    {
      "cell_type": "code",
      "execution_count": 1,
      "metadata": {
        "id": "5YYT044c2eAA"
      },
      "outputs": [],
      "source": [
        "# Import necessary libraries\n",
        "import numpy as np\n",
        "import pandas as pd\n",
        "import matplotlib.pyplot as plt\n",
        "from sklearn.preprocessing import MinMaxScaler"
      ]
    },
    {
      "cell_type": "code",
      "source": [
        "# Define the models and their performance metrics\n",
        "models = ['BERT', 'RoBERTa', 'DistilBERT', 'XLNet', 'ALBERT']\n",
        "accuracy = [0.91, 0.92, 0.89, 0.90, 0.90]  # Example accuracy scores\n",
        "f1_score = [0.90, 0.91, 0.88, 0.89, 0.89]  # Example F1-scores\n",
        "inference_time = [120, 130, 80, 150, 100]  # Example inference times in milliseconds\n",
        "model_size = [420, 500, 250, 450, 300]     # Example model sizes in megabytes\n"
      ],
      "metadata": {
        "id": "X-HbqXw32yrG"
      },
      "execution_count": 2,
      "outputs": []
    },
    {
      "cell_type": "code",
      "source": [
        "# Create a DataFrame to hold the data\n",
        "data = pd.DataFrame({\n",
        "    'Model': models,\n",
        "    'Accuracy': accuracy,\n",
        "    'F1-Score': f1_score,\n",
        "    'Inference Time (ms)': inference_time,\n",
        "    'Model Size (MB)': model_size\n",
        "})"
      ],
      "metadata": {
        "id": "oFznZksv21HI"
      },
      "execution_count": 3,
      "outputs": []
    },
    {
      "cell_type": "code",
      "source": [
        "# Display the data\n",
        "print(\"Performance Metrics of Pre-Trained Models:\")\n",
        "print(data)"
      ],
      "metadata": {
        "colab": {
          "base_uri": "https://localhost:8080/"
        },
        "id": "X8tSpsFO22i6",
        "outputId": "951656a4-bbb8-4a4b-fc4d-9feb1a020ace"
      },
      "execution_count": 4,
      "outputs": [
        {
          "output_type": "stream",
          "name": "stdout",
          "text": [
            "Performance Metrics of Pre-Trained Models:\n",
            "        Model  Accuracy  F1-Score  Inference Time (ms)  Model Size (MB)\n",
            "0        BERT      0.91      0.90                  120              420\n",
            "1     RoBERTa      0.92      0.91                  130              500\n",
            "2  DistilBERT      0.89      0.88                   80              250\n",
            "3       XLNet      0.90      0.89                  150              450\n",
            "4      ALBERT      0.90      0.89                  100              300\n"
          ]
        }
      ]
    },
    {
      "cell_type": "code",
      "source": [
        "# Normalize the data\n",
        "scaler = MinMaxScaler()\n",
        "normalized_data = scaler.fit_transform(data.iloc[:, 1:])"
      ],
      "metadata": {
        "id": "XfMJLtBZ234A"
      },
      "execution_count": 5,
      "outputs": []
    },
    {
      "cell_type": "code",
      "source": [
        "# Define the weights for each criterion\n",
        "# Assuming equal importance for all criteria\n",
        "weights = np.array([0.25, 0.25, 0.25, 0.25])"
      ],
      "metadata": {
        "id": "1poGDe2h25k5"
      },
      "execution_count": 6,
      "outputs": []
    },
    {
      "cell_type": "code",
      "source": [
        "# Calculate the weighted normalized decision matrix\n",
        "weighted_normalized_data = normalized_data * weights"
      ],
      "metadata": {
        "id": "JU3H6Ave267L"
      },
      "execution_count": 7,
      "outputs": []
    },
    {
      "cell_type": "code",
      "source": [
        "# Determine the ideal and negative-ideal solutions\n",
        "ideal_solution = np.max(weighted_normalized_data, axis=0)\n",
        "negative_ideal_solution = np.min(weighted_normalized_data, axis=0)"
      ],
      "metadata": {
        "id": "7fxZdVdS27lK"
      },
      "execution_count": 8,
      "outputs": []
    },
    {
      "cell_type": "code",
      "source": [
        "# Calculate the Euclidean distance from the ideal and negative-ideal solutions\n",
        "distance_to_ideal = np.sqrt(np.sum((weighted_normalized_data - ideal_solution) ** 2, axis=1))\n",
        "distance_to_negative_ideal = np.sqrt(np.sum((weighted_normalized_data - negative_ideal_solution) ** 2, axis=1))"
      ],
      "metadata": {
        "id": "_Gecw-iq276H"
      },
      "execution_count": 9,
      "outputs": []
    },
    {
      "cell_type": "code",
      "source": [
        "# Calculate the TOPSIS score\n",
        "topsis_score = distance_to_negative_ideal / (distance_to_ideal + distance_to_negative_ideal)"
      ],
      "metadata": {
        "id": "WQ8P91TS278R"
      },
      "execution_count": 10,
      "outputs": []
    },
    {
      "cell_type": "code",
      "source": [
        "# Add the TOPSIS score to the DataFrame\n",
        "data['TOPSIS Score'] = topsis_score"
      ],
      "metadata": {
        "id": "TRqwv-Bs27_g"
      },
      "execution_count": 11,
      "outputs": []
    },
    {
      "cell_type": "code",
      "source": [
        "# Rank the models based on the TOPSIS score\n",
        "data['Rank'] = data['TOPSIS Score'].rank(ascending=False)"
      ],
      "metadata": {
        "id": "gPeHWn0O28A6"
      },
      "execution_count": 12,
      "outputs": []
    },
    {
      "cell_type": "code",
      "source": [
        "# Display the final rankings\n",
        "print(\"\\nTOPSIS Rankings:\")\n",
        "print(data.sort_values('Rank'))"
      ],
      "metadata": {
        "colab": {
          "base_uri": "https://localhost:8080/"
        },
        "id": "acAuLZf_3DBv",
        "outputId": "863f8c21-f35d-4823-cb9c-4817d64e9f1c"
      },
      "execution_count": 13,
      "outputs": [
        {
          "output_type": "stream",
          "name": "stdout",
          "text": [
            "\n",
            "TOPSIS Rankings:\n",
            "        Model  Accuracy  F1-Score  Inference Time (ms)  Model Size (MB)  \\\n",
            "1     RoBERTa      0.92      0.91                  130              500   \n",
            "0        BERT      0.91      0.90                  120              420   \n",
            "3       XLNet      0.90      0.89                  150              450   \n",
            "4      ALBERT      0.90      0.89                  100              300   \n",
            "2  DistilBERT      0.89      0.88                   80              250   \n",
            "\n",
            "   TOPSIS Score  Rank  \n",
            "1      0.867680   1.0  \n",
            "0      0.644991   2.0  \n",
            "3      0.586076   3.0  \n",
            "4      0.291106   4.0  \n",
            "2      0.000000   5.0  \n"
          ]
        }
      ]
    },
    {
      "cell_type": "code",
      "source": [
        "# Plot the TOPSIS scores\n",
        "plt.figure(figsize=(10, 6))\n",
        "plt.bar(data['Model'], data['TOPSIS Score'], color='skyblue')\n",
        "plt.xlabel('Model')\n",
        "plt.ylabel('TOPSIS Score')\n",
        "plt.title('TOPSIS Scores of Pre-Trained Models')\n",
        "plt.show()"
      ],
      "metadata": {
        "colab": {
          "base_uri": "https://localhost:8080/",
          "height": 564
        },
        "id": "GWjg6uYW3DG8",
        "outputId": "e9e68690-d813-4188-bcb7-0b6b6a98336e"
      },
      "execution_count": 14,
      "outputs": [
        {
          "output_type": "display_data",
          "data": {
            "text/plain": [
              "<Figure size 1000x600 with 1 Axes>"
            ],
            "image/png": "[encoded data removed]"
          },
          "metadata": {}
        }
      ]
    },
    {
      "cell_type": "code",
      "source": [],
      "metadata": {
        "id": "qqR0NSrg3DJQ"
      },
      "execution_count": 14,
      "outputs": []
    }
  ]
}